{
 "cells": [
  {
   "cell_type": "code",
   "execution_count": 2,
   "metadata": {},
   "outputs": [
    {
     "name": "stdout",
     "output_type": "stream",
     "text": [
      "Data Awal:\n",
      "      Name   Age         City\n",
      "0    Alice  25.0     New York\n",
      "1      Bob  30.0  Los Angeles\n",
      "2  Charlie  35.0      Chicago\n",
      "3    Alice  25.0     New York\n",
      "4      Eve   NaN        Miami\n",
      "5      NaN  50.0   LosAngeles\n",
      "\n",
      "Data Setelah Cleaning:\n"
     ]
    },
    {
     "data": {
      "text/html": [
       "<div>\n",
       "<style scoped>\n",
       "    .dataframe tbody tr th:only-of-type {\n",
       "        vertical-align: middle;\n",
       "    }\n",
       "\n",
       "    .dataframe tbody tr th {\n",
       "        vertical-align: top;\n",
       "    }\n",
       "\n",
       "    .dataframe thead th {\n",
       "        text-align: right;\n",
       "    }\n",
       "</style>\n",
       "<table border=\"1\" class=\"dataframe\">\n",
       "  <thead>\n",
       "    <tr style=\"text-align: right;\">\n",
       "      <th></th>\n",
       "      <th>Name</th>\n",
       "      <th>Age</th>\n",
       "      <th>City</th>\n",
       "    </tr>\n",
       "  </thead>\n",
       "  <tbody>\n",
       "    <tr>\n",
       "      <th>0</th>\n",
       "      <td>Alice</td>\n",
       "      <td>25.0</td>\n",
       "      <td>New York</td>\n",
       "    </tr>\n",
       "    <tr>\n",
       "      <th>1</th>\n",
       "      <td>Bob</td>\n",
       "      <td>30.0</td>\n",
       "      <td>Los Angeles</td>\n",
       "    </tr>\n",
       "    <tr>\n",
       "      <th>2</th>\n",
       "      <td>Charlie</td>\n",
       "      <td>35.0</td>\n",
       "      <td>Chicago</td>\n",
       "    </tr>\n",
       "    <tr>\n",
       "      <th>4</th>\n",
       "      <td>Eve</td>\n",
       "      <td>32.5</td>\n",
       "      <td>Miami</td>\n",
       "    </tr>\n",
       "  </tbody>\n",
       "</table>\n",
       "</div>"
      ],
      "text/plain": [
       "      Name   Age         City\n",
       "0    Alice  25.0     New York\n",
       "1      Bob  30.0  Los Angeles\n",
       "2  Charlie  35.0      Chicago\n",
       "4      Eve  32.5        Miami"
      ]
     },
     "execution_count": 2,
     "metadata": {},
     "output_type": "execute_result"
    }
   ],
   "source": [
    "# Contoh Data Cleaning dengan Python\n",
    "import pandas as pd\n",
    "import numpy as np\n",
    "# Membuat dataframe contoh\n",
    "data = {\n",
    "'Name': ['Alice', 'Bob', 'Charlie', 'Alice', 'Eve', np.nan],\n",
    "'Age': [25, 30, 35, 25, np.nan, 50],\n",
    "'City': ['New York', 'Los Angeles', 'Chicago', 'New York', 'Miami', 'LosAngeles']\n",
    "}\n",
    "df = pd.DataFrame(data)\n",
    "# Menampilkan data awal\n",
    "print(\"Data Awal:\")\n",
    "print(df)\n",
    "# Menghapus duplikat\n",
    "df = df.drop_duplicates()\n",
    "# Menangani missing values dengan mengisi nilai median untuk kolom numerik\n",
    "df['Age'] = df['Age'].fillna(df['Age'].median())\n",
    "# Menghapus baris yang mengandung missing values di kolom 'Name'\n",
    "df = df.dropna(subset=['Name'])\n",
    "# Menampilkan data setelah cleaning\n",
    "print(\"\\nData Setelah Cleaning:\")\n",
    "df"
   ]
  },
  {
   "cell_type": "code",
   "execution_count": 4,
   "metadata": {},
   "outputs": [
    {
     "name": "stdout",
     "output_type": "stream",
     "text": [
      "Name    1\n",
      "Age     1\n",
      "City    0\n",
      "dtype: int64\n"
     ]
    }
   ],
   "source": [
    "# Identifikasi Missing Values\n",
    "import pandas as pd\n",
    "df = pd.read_csv('data.csv')\n",
    "print(df.isnull().sum())"
   ]
  },
  {
   "cell_type": "code",
   "execution_count": 10,
   "metadata": {},
   "outputs": [],
   "source": [
    "df['Age'] = df['Age'].fillna(df['Age'].mean())\n",
    "df['Age'] = df['Age'].fillna(df['Age'].median())\n",
    "df['Age'] = df['Age'].fillna(df['Age'].mode()[0])\n"
   ]
  },
  {
   "cell_type": "code",
   "execution_count": 11,
   "metadata": {},
   "outputs": [
    {
     "name": "stderr",
     "output_type": "stream",
     "text": [
      "C:\\Users\\taufiq\\AppData\\Local\\Temp\\ipykernel_17836\\741149105.py:2: FutureWarning: A value is trying to be set on a copy of a DataFrame or Series through chained assignment using an inplace method.\n",
      "The behavior will change in pandas 3.0. This inplace method will never work because the intermediate object on which we are setting values always behaves as a copy.\n",
      "\n",
      "For example, when doing 'df[col].method(value, inplace=True)', try using 'df.method({col: value}, inplace=True)' or df[col] = df[col].method(value) instead, to perform the operation inplace on the original object.\n",
      "\n",
      "\n",
      "  df['Age'].fillna(method='ffill', inplace=True) # Forward fill\n",
      "C:\\Users\\taufiq\\AppData\\Local\\Temp\\ipykernel_17836\\741149105.py:2: FutureWarning: Series.fillna with 'method' is deprecated and will raise in a future version. Use obj.ffill() or obj.bfill() instead.\n",
      "  df['Age'].fillna(method='ffill', inplace=True) # Forward fill\n",
      "C:\\Users\\taufiq\\AppData\\Local\\Temp\\ipykernel_17836\\741149105.py:3: FutureWarning: A value is trying to be set on a copy of a DataFrame or Series through chained assignment using an inplace method.\n",
      "The behavior will change in pandas 3.0. This inplace method will never work because the intermediate object on which we are setting values always behaves as a copy.\n",
      "\n",
      "For example, when doing 'df[col].method(value, inplace=True)', try using 'df.method({col: value}, inplace=True)' or df[col] = df[col].method(value) instead, to perform the operation inplace on the original object.\n",
      "\n",
      "\n",
      "  df['Age'].fillna(method='bfill', inplace=True) # Backward fill\n",
      "C:\\Users\\taufiq\\AppData\\Local\\Temp\\ipykernel_17836\\741149105.py:3: FutureWarning: Series.fillna with 'method' is deprecated and will raise in a future version. Use obj.ffill() or obj.bfill() instead.\n",
      "  df['Age'].fillna(method='bfill', inplace=True) # Backward fill\n"
     ]
    }
   ],
   "source": [
    "# Forward/Backward Fill\n",
    "df['Age'].fillna(method='ffill', inplace=True) # Forward fill\n",
    "df['Age'].fillna(method='bfill', inplace=True) # Backward fill"
   ]
  },
  {
   "cell_type": "code",
   "execution_count": 14,
   "metadata": {},
   "outputs": [
    {
     "name": "stdout",
     "output_type": "stream",
     "text": [
      "0\n"
     ]
    }
   ],
   "source": [
    "# Identifikasi duplikat\n",
    "print(df.duplicated().sum())\n",
    "# Menghapus duplikat\n",
    "df.drop_duplicates(inplace=True)"
   ]
  },
  {
   "cell_type": "code",
   "execution_count": 17,
   "metadata": {},
   "outputs": [
    {
     "name": "stdout",
     "output_type": "stream",
     "text": [
      "Outliers:\n",
      " Empty DataFrame\n",
      "Columns: [Name, Age, City]\n",
      "Index: []\n"
     ]
    },
    {
     "name": "stderr",
     "output_type": "stream",
     "text": [
      "C:\\Users\\taufiq\\AppData\\Local\\Temp\\ipykernel_17836\\3560784508.py:31: FutureWarning: A value is trying to be set on a copy of a DataFrame or Series through chained assignment using an inplace method.\n",
      "The behavior will change in pandas 3.0. This inplace method will never work because the intermediate object on which we are setting values always behaves as a copy.\n",
      "\n",
      "For example, when doing 'df[col].method(value, inplace=True)', try using 'df.method({col: value}, inplace=True)' or df[col] = df[col].method(value) instead, to perform the operation inplace on the original object.\n",
      "\n",
      "\n",
      "  df['Age'].fillna(df['Age'].median(), inplace=True)\n",
      "C:\\Users\\taufiq\\AppData\\Local\\Temp\\ipykernel_17836\\3560784508.py:32: FutureWarning: A value is trying to be set on a copy of a DataFrame or Series through chained assignment using an inplace method.\n",
      "The behavior will change in pandas 3.0. This inplace method will never work because the intermediate object on which we are setting values always behaves as a copy.\n",
      "\n",
      "For example, when doing 'df[col].method(value, inplace=True)', try using 'df.method({col: value}, inplace=True)' or df[col] = df[col].method(value) instead, to perform the operation inplace on the original object.\n",
      "\n",
      "\n",
      "  df['Name'].fillna('Unknown', inplace=True)\n"
     ]
    }
   ],
   "source": [
    "# Langkah 1: Membuat DataFrame\n",
    "import pandas as pd\n",
    "import numpy as np\n",
    "data = {\n",
    "'Name': ['Alice', 'Bob', 'Charlie', 'Alice', 'Eve', np.nan],\n",
    "'Age': [25, 30, 35, 25, np.nan, 50],\n",
    "'City': ['New York', 'Los Angeles', 'Chicago', 'New York', 'Miami', 'LosAngeles']\n",
    "}\n",
    "df = pd.DataFrame(data)\n",
    "# Langkah 2: Identifikasi Outliers\n",
    "# Outliers dapat diidentifikasi menggunakan berbagai metode, salah satu yang umumadalah menggunakan Z-score atau IQR (Interquartile Range).\n",
    "# Di sini, kita akan menggunakan IQR untuk mendeteksi outliers.\n",
    "# Menghitung IQR\n",
    "Q1 = df['Age'].quantile(0.25)\n",
    "Q3 = df['Age'].quantile(0.75)\n",
    "IQR = Q3 - Q1\n",
    "# Menentukan batas bawah dan atas untuk outliers\n",
    "lower_bound = Q1 - 1.5 * IQR\n",
    "upper_bound = Q3 + 1.5 * IQR\n",
    "# Menandai outliers\n",
    "outliers = df[(df['Age'] < lower_bound) | (df['Age'] > upper_bound)]\n",
    "print(\"Outliers:\\n\", outliers)\n",
    "# Langkah 3: Menangani Outliers\n",
    "# # Menghapus outliers\n",
    "df_no_outliers = df[(df['Age'] >= lower_bound) & (df['Age'] <= upper_bound)]\n",
    "# Mengganti outliers dengan nilai median\n",
    "median_age = df['Age'].median()\n",
    "df['Age'] = np.where((df['Age'] < lower_bound) | (df['Age'] > upper_bound),\n",
    "median_age, df['Age'])\n",
    "# Mengisi missing values dengan median\n",
    "df['Age'].fillna(df['Age'].median(), inplace=True)\n",
    "df['Name'].fillna('Unknown', inplace=True)\n"
   ]
  },
  {
   "cell_type": "code",
   "execution_count": 19,
   "metadata": {},
   "outputs": [
    {
     "name": "stdout",
     "output_type": "stream",
     "text": [
      "   City_Chicago  City_Los Angeles  City_Miami  City_New York\n",
      "0         False             False       False           True\n",
      "1         False              True       False          False\n",
      "2          True             False       False          False\n",
      "3         False             False       False           True\n",
      "4         False             False        True          False\n"
     ]
    }
   ],
   "source": [
    "# Contoh: misalnya, kita memiliki dataset dengan kolom \"City\" yang berisi datakategorikal:\n",
    "import pandas as pd\n",
    "data = {'City': ['New York', 'Los Angeles', 'Chicago', 'New York', 'Miami']}\n",
    "df = pd.DataFrame(data)\n",
    "# One-Hot Encoding\n",
    "df_one_hot = pd.get_dummies(df, columns=['City'])\n",
    "print(df_one_hot)"
   ]
  },
  {
   "cell_type": "code",
   "execution_count": 23,
   "metadata": {},
   "outputs": [],
   "source": [
    "import numpy as np\n",
    "data = {\n",
    "'Name': ['Alice', 'Bob', 'Charlie', 'Alice', 'Eve', np.nan],\n",
    "'Age': [25, 30, 35, 25, np.nan, 50],\n",
    "'City': ['New York', 'Los Angeles', 'Chicago', 'New York', 'Miami', 'LosAngeles']\n",
    "}\n",
    "df = pd.DataFrame(data)\n",
    "# Menghapus Data Tidak Valid: Jika jumlah data tidak valid kecil dan tidaksignifikan, menghapusnya bisa menjadi solusi yang cepat dan mudah.\n",
    "df = df.dropna(subset=['Age', 'Name']) # Menghapus baris dengan nilai 'Age' atau'Name' yang tidak valid\n",
    "# Mengganti dengan Nilai Lain:\n",
    "# Mengisi dengan Rata-rata/Median: Mengisi nilai yang hilang atau tidak validdengan rata-rata atau median.\n",
    "df['Age'] = df['Age'].fillna(df['Age'].median())\n",
    "# Mengisi dengan Nilai Default: Mengisi dengan nilai default yang logis atausesuai konteks.\n",
    "df['Name'] = df['Name'].fillna('Unknown')\n",
    "# Transformasi Data: Mengubah data tidak valid menjadi format yang sesuai.\n",
    "df['Age'] = pd.to_numeric(df['Age'], errors='coerce') # Mengubah nilai 'Age'yang tidak valid menjadi NaN\n",
    "# Pembersihan dengan Logika Bisnis: Menggunakan aturan bisnis untuk memperbaikidata. Misalnya, jika usia tidak masuk akal (misalnya lebih dari 120 tahun), makaubah atau hapus.\n",
    "\n",
    "df = df[(df['Age'] >= 0) & (df['Age'] <= 120)]"
   ]
  },
  {
   "cell_type": "code",
   "execution_count": 24,
   "metadata": {},
   "outputs": [
    {
     "name": "stdout",
     "output_type": "stream",
     "text": [
      "Data Awal:\n",
      "      Name    Age         City\n",
      "0    Alice   25.0     New York\n",
      "1      Bob   30.0  Los Angeles\n",
      "2  Charlie   35.0      Chicago\n",
      "3    Alice   25.0     New York\n",
      "4      Eve    NaN        Miami\n",
      "5      NaN  150.0   LosAngeles\n",
      "\n",
      "Data Setelah Menangani Nilai Tidak Valid:\n",
      "      Name    Age         City\n",
      "0    Alice   25.0     New York\n",
      "1      Bob   30.0  Los Angeles\n",
      "2  Charlie   35.0      Chicago\n",
      "3    Alice   25.0     New York\n",
      "4      Eve   30.0        Miami\n",
      "5  Unknown  150.0   LosAngeles\n"
     ]
    }
   ],
   "source": [
    "import pandas as pd\n",
    "import numpy as np\n",
    "data = {\n",
    "'Name': ['Alice', 'Bob', 'Charlie', 'Alice', 'Eve', np.nan],\n",
    "'Age': [25, 30, 35, 25, np.nan, 150], # 150 dianggap sebagai nilai tidavalid\n",
    "'City': ['New York', 'Los Angeles', 'Chicago', 'New York', 'Miami', 'LosAngeles']\n",
    "}\n",
    "df = pd.DataFrame(data)\n",
    "# Identifikasi nilai tidak valid\n",
    "print(\"Data Awal:\")\n",
    "print(df)\n",
    "# Mengubah nilai 'Age' yang tidak valid menjadi NaN\n",
    "df['Age'] = pd.to_numeric(df['Age'], errors='coerce')\n",
    "# Mengisi nilai 'Age' yang hilang atau tidak valid dengan median\n",
    "df['Age'] = df['Age'].fillna(df['Age'].median())\n",
    "# Mengisi nilai 'Name' yang hilang dengan 'Unknown'\n",
    "df['Name'] = df['Name'].fillna('Unknown')\n",
    "print(\"\\nData Setelah Menangani Nilai Tidak Valid:\")\n",
    "print(df)"
   ]
  },
  {
   "cell_type": "code",
   "execution_count": 25,
   "metadata": {},
   "outputs": [
    {
     "name": "stdout",
     "output_type": "stream",
     "text": [
      "K-Fold Cross-Validation Scores: [nan nan nan nan nan]\n",
      "Mean Score: nan\n"
     ]
    },
    {
     "name": "stderr",
     "output_type": "stream",
     "text": [
      "C:\\Users\\taufiq\\AppData\\Local\\Packages\\PythonSoftwareFoundation.Python.3.11_qbz5n2kfra8p0\\LocalCache\\local-packages\\Python311\\site-packages\\sklearn\\metrics\\_regression.py:1211: UndefinedMetricWarning: R^2 score is not well-defined with less than two samples.\n",
      "  warnings.warn(msg, UndefinedMetricWarning)\n",
      "C:\\Users\\taufiq\\AppData\\Local\\Packages\\PythonSoftwareFoundation.Python.3.11_qbz5n2kfra8p0\\LocalCache\\local-packages\\Python311\\site-packages\\sklearn\\metrics\\_regression.py:1211: UndefinedMetricWarning: R^2 score is not well-defined with less than two samples.\n",
      "  warnings.warn(msg, UndefinedMetricWarning)\n",
      "C:\\Users\\taufiq\\AppData\\Local\\Packages\\PythonSoftwareFoundation.Python.3.11_qbz5n2kfra8p0\\LocalCache\\local-packages\\Python311\\site-packages\\sklearn\\metrics\\_regression.py:1211: UndefinedMetricWarning: R^2 score is not well-defined with less than two samples.\n",
      "  warnings.warn(msg, UndefinedMetricWarning)\n",
      "C:\\Users\\taufiq\\AppData\\Local\\Packages\\PythonSoftwareFoundation.Python.3.11_qbz5n2kfra8p0\\LocalCache\\local-packages\\Python311\\site-packages\\sklearn\\metrics\\_regression.py:1211: UndefinedMetricWarning: R^2 score is not well-defined with less than two samples.\n",
      "  warnings.warn(msg, UndefinedMetricWarning)\n",
      "C:\\Users\\taufiq\\AppData\\Local\\Packages\\PythonSoftwareFoundation.Python.3.11_qbz5n2kfra8p0\\LocalCache\\local-packages\\Python311\\site-packages\\sklearn\\metrics\\_regression.py:1211: UndefinedMetricWarning: R^2 score is not well-defined with less than two samples.\n",
      "  warnings.warn(msg, UndefinedMetricWarning)\n"
     ]
    }
   ],
   "source": [
    "from sklearn.model_selection import KFold, cross_val_score\n",
    "from sklearn.linear_model import LinearRegression\n",
    "import numpy as np\n",
    "# Contoh dataset\n",
    "X = np.array([[1, 2], [2, 3], [3, 4], [4, 5], [5, 6]])\n",
    "y = np.array([2, 3, 4, 5, 6])\n",
    "# Model\n",
    "model = LinearRegression()\n",
    "# K-Fold Cross-Validation\n",
    "kf = KFold(n_splits=5)\n",
    "scores = cross_val_score(model, X, y, cv=kf)\n",
    "print(\"K-Fold Cross-Validation Scores:\", scores)\n",
    "print(\"Mean Score:\", np.mean(scores))"
   ]
  },
  {
   "cell_type": "code",
   "execution_count": 26,
   "metadata": {},
   "outputs": [
    {
     "name": "stdout",
     "output_type": "stream",
     "text": [
      "K-Fold Cross-Validation Scores: [1.         1.         0.93333333 0.96666667 0.96666667]\n",
      "Mean Score: 0.9733333333333334\n"
     ]
    }
   ],
   "source": [
    "# Implementasi K-Fold Cross-Validation di Python\n",
    "from sklearn.model_selection import KFold, cross_val_score\n",
    "from sklearn.linear_model import LogisticRegression\n",
    "from sklearn.datasets import load_iris\n",
    "# Load dataset\n",
    "iris = load_iris()\n",
    "X = iris.data\n",
    "y = iris.target\n",
    "# Model\n",
    "model = LogisticRegression(max_iter=1000)\n",
    "# K-Fold Cross-Validation\n",
    "kf = KFold(n_splits=5, shuffle=True, random_state=42) # Misalnya, menggunakan 5folds dengan shuffle dan seed random 42\n",
    "scores = cross_val_score(model, X, y, cv=kf, scoring='accuracy')\n",
    "print(\"K-Fold Cross-Validation Scores:\", scores)\n",
    "print(\"Mean Score:\", scores.mean())"
   ]
  },
  {
   "cell_type": "code",
   "execution_count": 28,
   "metadata": {},
   "outputs": [
    {
     "name": "stdout",
     "output_type": "stream",
     "text": [
      "Mean: 13.7\n",
      "95% Confidence Interval: 11.6 - 15.9\n"
     ]
    }
   ],
   "source": [
    "import numpy as np\n",
    "# Data\n",
    "data = np.array([10, 15, 8, 12, 14, 20, 18, 16, 11, 13])\n",
    "\n",
    "# Bootstrap sampling\n",
    "n_samples = 1000\n",
    "bootstrap_means = np.zeros(n_samples)\n",
    "\n",
    "for i in range(n_samples):\n",
    "    bootstrap_sample = np.random.choice(data, size=len(data), replace=True)\n",
    "    bootstrap_means[i] = np.mean(bootstrap_sample)\n",
    "    \n",
    "# Confidence interval (95%)\n",
    "ci_lower = np.percentile(bootstrap_means, 2.5)\n",
    "ci_upper = np.percentile(bootstrap_means, 97.5)\n",
    "\n",
    "print(\"Mean:\", np.mean(data))\n",
    "print(\"95% Confidence Interval:\", ci_lower, \"-\", ci_upper)"
   ]
  },
  {
   "cell_type": "code",
   "execution_count": 33,
   "metadata": {},
   "outputs": [
    {
     "name": "stdout",
     "output_type": "stream",
     "text": [
      "Accuracy: 1.0\n",
      "Confusion Matrix:\n",
      " [[10  0  0]\n",
      " [ 0  9  0]\n",
      " [ 0  0 11]]\n"
     ]
    }
   ],
   "source": [
    "from sklearn.model_selection import train_test_split\n",
    "from sklearn.metrics import accuracy_score, confusion_matrix\n",
    "from sklearn.datasets import load_iris\n",
    "from sklearn.linear_model import LogisticRegression\n",
    "\n",
    "# Load dataset\n",
    "iris = load_iris()\n",
    "X = iris.data\n",
    "y = iris.target\n",
    "\n",
    "# Bagi dataset menjadi data pelatihan dan data pengujian (80% train, 20% test)\n",
    "X_train, X_test, y_train, y_test = train_test_split(X, y, test_size=0.2, random_state=42)\n",
    "\n",
    "# Inisialisasi dan latih model\n",
    "model = LogisticRegression(max_iter=1000)\n",
    "model.fit(X_train, y_train)\n",
    "\n",
    "# Prediksi dengan data pengujian\n",
    "y_pred = model.predict(X_test)\n",
    "\n",
    "# Evaluasi kinerja model\n",
    "accuracy = accuracy_score(y_test, y_pred)\n",
    "conf_matrix = confusion_matrix(y_test, y_pred)\n",
    "\n",
    "# Tampilkan hasil\n",
    "print(\"Accuracy:\", accuracy)\n",
    "print(\"Confusion Matrix:\\n\", conf_matrix)\n"
   ]
  },
  {
   "cell_type": "code",
   "execution_count": 2,
   "metadata": {},
   "outputs": [
    {
     "name": "stderr",
     "output_type": "stream",
     "text": [
      "[nltk_data] Downloading package movie_reviews to\n",
      "[nltk_data]     C:\\Users\\taufiq\\AppData\\Roaming\\nltk_data...\n",
      "[nltk_data]   Package movie_reviews is already up-to-date!\n"
     ]
    },
    {
     "name": "stdout",
     "output_type": "stream",
     "text": [
      "Confusion Matrix:\n",
      "[[170  29]\n",
      " [ 37 164]]\n",
      "\n",
      "Classification Report:\n",
      "              precision    recall  f1-score   support\n",
      "\n",
      "         neg       0.82      0.85      0.84       199\n",
      "         pos       0.85      0.82      0.83       201\n",
      "\n",
      "    accuracy                           0.83       400\n",
      "   macro avg       0.84      0.84      0.83       400\n",
      "weighted avg       0.84      0.83      0.83       400\n",
      "\n"
     ]
    }
   ],
   "source": [
    "# Impor library yang diperlukan\n",
    "import nltk\n",
    "from nltk.corpus import movie_reviews\n",
    "from sklearn.feature_extraction.text import TfidfVectorizer\n",
    "from sklearn.model_selection import train_test_split\n",
    "from sklearn.svm import LinearSVC\n",
    "from sklearn.metrics import confusion_matrix, classification_report\n",
    "\n",
    "# Unduh dataset sentimen ulasan film dari NLTK\n",
    "nltk.download('movie_reviews')\n",
    "\n",
    "# Ambil ulasan dan label dari dataset\n",
    "documents = [(list(movie_reviews.words(fileid)), category)\n",
    "             for category in movie_reviews.categories()\n",
    "             for fileid in movie_reviews.fileids(category)]\n",
    "\n",
    "# Pisahkan teks ulasan dan label\n",
    "texts = [' '.join(document) for document, category in documents]\n",
    "labels = [category for document, category in documents]\n",
    "\n",
    "# Ubah teks menjadi vektor fitur TF-IDF\n",
    "vectorizer = TfidfVectorizer(max_features=5000)\n",
    "X = vectorizer.fit_transform(texts)\n",
    "\n",
    "# Bagi dataset menjadi data pelatihan dan data pengujian\n",
    "X_train, X_test, y_train, y_test = train_test_split(X, labels, test_size=0.2, random_state=42)\n",
    "\n",
    "# Inisialisasi dan latih model klasifikasi (Linear SVM)\n",
    "classifier = LinearSVC()\n",
    "classifier.fit(X_train, y_train)\n",
    "\n",
    "# Prediksi kelas pada data pengujian\n",
    "y_pred = classifier.predict(X_test)\n",
    "\n",
    "# Evaluasi model menggunakan confusion matrix\n",
    "conf_matrix = confusion_matrix(y_test, y_pred)\n",
    "print(\"Confusion Matrix:\")\n",
    "print(conf_matrix)\n",
    "\n",
    "# Evaluasi model menggunakan classification report\n",
    "report = classification_report(y_test, y_pred)\n",
    "print(\"\\nClassification Report:\")\n",
    "print(report)\n"
   ]
  },
  {
   "cell_type": "code",
   "execution_count": 13,
   "metadata": {},
   "outputs": [],
   "source": [
    "# Dropping Missing Values\n",
    "df.dropna(subset=['Age'], inplace=True)"
   ]
  }
 ],
 "metadata": {
  "kernelspec": {
   "display_name": "Python 3",
   "language": "python",
   "name": "python3"
  },
  "language_info": {
   "codemirror_mode": {
    "name": "ipython",
    "version": 3
   },
   "file_extension": ".py",
   "mimetype": "text/x-python",
   "name": "python",
   "nbconvert_exporter": "python",
   "pygments_lexer": "ipython3",
   "version": "3.11.9"
  }
 },
 "nbformat": 4,
 "nbformat_minor": 2
}
